import pandas as pd
import matplotlib.pyplot as plt

# データ読み込み
df = pd.read_csv('sample.csv')

# 簡単なデータの中身確認
print(df.head())

# グラフ作成（例：日付ごとに売上を見る）
plt.figure(figsize=(10, 5))
plt.plot(df['date'], df['sales'], marker='o')
plt.title('Daily Sales')
plt.xlabel('Date')
plt.ylabel('Sales')
plt.xticks(rotation=45)
plt.tight_layout()

# グラフ保存
plt.savefig('sales_graph.png')
print("グラフを'sales_graph.png'として保存しました。")
